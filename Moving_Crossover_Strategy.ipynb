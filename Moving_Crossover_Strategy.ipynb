{
 "cells": [
  {
   "cell_type": "code",
   "execution_count": 10,
   "id": "c3c10969",
   "metadata": {},
   "outputs": [
    {
     "name": "stderr",
     "output_type": "stream",
     "text": [
      "\r",
      "[*********************100%***********************]  1 of 1 completed"
     ]
    },
    {
     "name": "stdout",
     "output_type": "stream",
     "text": [
      "Sell at : 2526.35205078125  Exit at : 2949.679443359375\n",
      "Buy at : 2949.679443359375  Exit at : 3492.92822265625\n",
      "Sell at : 3492.92822265625  Exit at : 3184.876708984375\n",
      "Buy at : 3184.876708984375  Exit at : 3039.384033203125\n",
      "Sell at : 3039.384033203125  Exit at : 3256.652587890625\n",
      "Buy at : 3256.652587890625  Exit at : 3365.114990234375\n",
      "Sell at : 3365.114990234375  Exit at : 3672.329345703125\n",
      "Buy at : 3672.329345703125  Exit at : 3991.814697265625\n",
      "Sell at : 3991.814697265625  Exit at : 3760.293212890625\n",
      "Buy at : 3760.293212890625    \n",
      "The Net Profit of the strategy is : 185.945068359375\n"
     ]
    },
    {
     "name": "stderr",
     "output_type": "stream",
     "text": [
      "\n"
     ]
    }
   ],
   "source": [
    "# Strategy : Buy when 50 days short term moving average crosses above  100 days long term moving average and squaring it off \n",
    "#            when it crosses below long term moving average.\n",
    "#            Sell when 50 days short term moving average crosses below  100 days long term moving average and squaring it off \n",
    "#            when it crosses above long term moving average. \n",
    "\n",
    "\n",
    "\n",
    "# Importing yahoo_finance and pandas\n",
    "import yfinance as yf\n",
    "import pandas as pd\n",
    "\n",
    "# setting start_date and end_date to put as arguments while downloading data from yahoo\n",
    "start_date=\"2020-10-01\"\n",
    "end_date=\"2025-01-10\"\n",
    "\n",
    "Company_Ticker = \"TCS.NS\"\n",
    "\n",
    "data=yf.download(Company_Ticker,start=start_date,end=end_date)\n",
    "\n",
    "Closing_Prices = data[\"Close\"].values.tolist()\n",
    "\n",
    "\n",
    "# Creating short term moving averagge list\n",
    "sm_duration=50  #Write short term moving average duration\n",
    "short_term_moving_average=[]\n",
    "sm_total=0\n",
    "sm_count=0\n",
    "for i in range(len(Closing_Prices)):\n",
    "    sm_total+=Closing_Prices[i][0]\n",
    "    sm_count+=1\n",
    "    if sm_count==sm_duration:\n",
    "        short_term_moving_average.append(sm_total/sm_duration)\n",
    "        sm_total-=Closing_Prices[i-sm_duration-1][0]\n",
    "        sm_count-=1\n",
    "        \n",
    "# Creating long term moving averagge list\n",
    "lm_duration=100 #Write long term moving average duration\n",
    "long_term_moving_average=[]\n",
    "lm_total=0\n",
    "lm_count=0\n",
    "for i in range(len(Closing_Prices)):\n",
    "    lm_total+=Closing_Prices[i][0]\n",
    "    lm_count+=1\n",
    "    if lm_count==lm_duration:\n",
    "        long_term_moving_average.append(lm_total/lm_duration)\n",
    "        lm_total-=Closing_Prices[i-lm_duration-1][0]\n",
    "        lm_count-=1\n",
    "\n",
    "# Initializing\n",
    "trade_active=False    #this is been initiatd so as to remove effect of last trade, when no exit occurs\n",
    "NetProfit = 0\n",
    "index=0\n",
    "\n",
    "# Loooping\n",
    "for i in range(len(long_term_moving_average)):\n",
    "    \n",
    "#     Checking buying conditions\n",
    "\n",
    "    if i>9 and short_term_moving_average[i]>long_term_moving_average[i] and i>=index and trade_active==False:\n",
    "        print(f\"Buy at : {Closing_Prices[i][0]}\",end=\"  \")\n",
    "        trade_active=True\n",
    "\n",
    "        buying_value=Closing_Prices[i][0]\n",
    "        \n",
    "#         Inside Loop for checking sqaure off conditions\n",
    "\n",
    "        for j in range(i+1,len(long_term_moving_average)):\n",
    "        \n",
    "            if j>9 and short_term_moving_average[j]<long_term_moving_average[j]:\n",
    "                print(f\"Exit at : {Closing_Prices[j][0]}\")\n",
    "                exit=Closing_Prices[j][0]\n",
    "                trade_active=False\n",
    "                \n",
    "                \n",
    "                selling_value=Closing_Prices[j][0]\n",
    "                index=j\n",
    "                NetProfit+=selling_value-buying_value\n",
    "                break \n",
    "            \n",
    "#     for selling consition\n",
    "    elif i>9 and short_term_moving_average[i]<long_term_moving_average[i] and i>=index and trade_active==False:\n",
    "        print(f\"Sell at : {Closing_Prices[i][0]}\",end=\"  \")\n",
    "        trade_active=True\n",
    "\n",
    "        selling_value=Closing_Prices[i][0]\n",
    "        \n",
    "#         Inside Loop for checking sqaure off conditions\n",
    "\n",
    "        for k in range(i+1,len(long_term_moving_average)):\n",
    "            \n",
    "            if k>9 and short_term_moving_average[k]>long_term_moving_average[k]:\n",
    "                print(f\"Exit at : {Closing_Prices[k][0]}\")\n",
    "                trade_active=False\n",
    "                \n",
    "                buying_value=Closing_Prices[k][0]\n",
    "                index=k\n",
    "                NetProfit+=selling_value-buying_value\n",
    "                \n",
    "                break\n",
    "\n",
    "if trade_active==True:\n",
    "    NetProfit=NetProfit-selling_value+buying_value\n",
    "                \n",
    "\n",
    "print(\"  \")\n",
    "print(f\"The Net Profit of the strategy is : {NetProfit}\")\n",
    "\n",
    "\n",
    "\n",
    "\n"
   ]
  },
  {
   "cell_type": "code",
   "execution_count": null,
   "id": "8463d016",
   "metadata": {},
   "outputs": [],
   "source": []
  },
  {
   "cell_type": "code",
   "execution_count": null,
   "id": "a0949ecf",
   "metadata": {},
   "outputs": [],
   "source": []
  },
  {
   "cell_type": "code",
   "execution_count": null,
   "id": "9a9d2e10",
   "metadata": {},
   "outputs": [],
   "source": []
  },
  {
   "cell_type": "code",
   "execution_count": null,
   "id": "f2f18767",
   "metadata": {},
   "outputs": [],
   "source": []
  },
  {
   "cell_type": "code",
   "execution_count": null,
   "id": "d2ed1d0e",
   "metadata": {},
   "outputs": [],
   "source": [
    "\n"
   ]
  },
  {
   "cell_type": "code",
   "execution_count": null,
   "id": "56932a41",
   "metadata": {},
   "outputs": [],
   "source": []
  },
  {
   "cell_type": "code",
   "execution_count": null,
   "id": "64fe4971",
   "metadata": {},
   "outputs": [],
   "source": []
  }
 ],
 "metadata": {
  "kernelspec": {
   "display_name": "Python 3 (ipykernel)",
   "language": "python",
   "name": "python3"
  },
  "language_info": {
   "codemirror_mode": {
    "name": "ipython",
    "version": 3
   },
   "file_extension": ".py",
   "mimetype": "text/x-python",
   "name": "python",
   "nbconvert_exporter": "python",
   "pygments_lexer": "ipython3",
   "version": "3.11.4"
  }
 },
 "nbformat": 4,
 "nbformat_minor": 5
}
